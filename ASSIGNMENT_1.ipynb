{
  "nbformat": 4,
  "nbformat_minor": 0,
  "metadata": {
    "colab": {
      "provenance": [],
      "authorship_tag": "ABX9TyPg52DEZHIM2ddvMogNz8Nc",
      "include_colab_link": true
    },
    "kernelspec": {
      "name": "python3",
      "display_name": "Python 3"
    },
    "language_info": {
      "name": "python"
    },
    "accelerator": "GPU",
    "gpuClass": "standard"
  },
  "cells": [
    {
      "cell_type": "markdown",
      "metadata": {
        "id": "view-in-github",
        "colab_type": "text"
      },
      "source": [
        "<a href=\"https://colab.research.google.com/github/SharoneRosy/AI-COURSE-ASSIGNMENTS/blob/main/ASSIGNMENT_1.ipynb\" target=\"_parent\"><img src=\"https://colab.research.google.com/assets/colab-badge.svg\" alt=\"Open In Colab\"/></a>"
      ]
    },
    {
      "cell_type": "markdown",
      "source": [
        "1. Write a function that inputs a number and prints the multiplication table of that number"
      ],
      "metadata": {
        "id": "4WtzxqE6Ngsa"
      }
    },
    {
      "cell_type": "code",
      "source": [
        "n=int(input(\"Enter a Number\"))\n"
      ],
      "metadata": {
        "colab": {
          "base_uri": "https://localhost:8080/"
        },
        "id": "wQL8bC8aNjhH",
        "outputId": "e63e1957-676d-4523-e621-a05faa29c43c"
      },
      "execution_count": null,
      "outputs": [
        {
          "name": "stdout",
          "output_type": "stream",
          "text": [
            "Enter a Number3\n"
          ]
        }
      ]
    },
    {
      "cell_type": "code",
      "source": [
        "for i in range(1,11):\n",
        "  print ( n,\"*\",i ,\"=\",(n*i))"
      ],
      "metadata": {
        "colab": {
          "base_uri": "https://localhost:8080/"
        },
        "id": "ZWcL-nRWOeO3",
        "outputId": "4a84b2d0-05ad-4f0a-8614-90a98bf7a1f0"
      },
      "execution_count": null,
      "outputs": [
        {
          "output_type": "stream",
          "name": "stdout",
          "text": [
            "3 * 1 = 3\n",
            "3 * 2 = 6\n",
            "3 * 3 = 9\n",
            "3 * 4 = 12\n",
            "3 * 5 = 15\n",
            "3 * 6 = 18\n",
            "3 * 7 = 21\n",
            "3 * 8 = 24\n",
            "3 * 9 = 27\n",
            "3 * 10 = 30\n"
          ]
        }
      ]
    },
    {
      "cell_type": "markdown",
      "source": [
        "2. Write a program to print twin primes less than 1000. If two consecutive odd numbers are \n",
        "both prime then they are known as twin primes"
      ],
      "metadata": {
        "id": "d_usfAe0P3AQ"
      }
    },
    {
      "cell_type": "code",
      "source": [
        "import math\n",
        "def isprime(n):\n",
        "    if n==2 or n==3:\n",
        "      return 1\n",
        "    if (n%2)==0 or (n%3)==0:\n",
        "      return 0\n",
        "    \n",
        "    for i in range(5,int(math.sqrt(n)+1),6):\n",
        "      if (n%i)==0 or (n%i+2)==0:\n",
        "        return 0\n",
        "    return 1\n",
        "isprime(100)"
      ],
      "metadata": {
        "colab": {
          "base_uri": "https://localhost:8080/"
        },
        "id": "lXenz_xyP_8q",
        "outputId": "72632983-3319-4bd0-a5a9-269bed80ec71"
      },
      "execution_count": null,
      "outputs": [
        {
          "output_type": "execute_result",
          "data": {
            "text/plain": [
              "0"
            ]
          },
          "metadata": {},
          "execution_count": 22
        }
      ]
    },
    {
      "cell_type": "code",
      "source": [
        "for i in range(1,101):\n",
        "  if isprime(i)==1 and isprime(i+2)==1:\n",
        "    print (i,i+2 , \"are coprimes\")"
      ],
      "metadata": {
        "colab": {
          "base_uri": "https://localhost:8080/"
        },
        "id": "dE2gtfkKTwCf",
        "outputId": "25e07624-9b62-42b7-ad19-642f93ab43b0"
      },
      "execution_count": null,
      "outputs": [
        {
          "output_type": "stream",
          "name": "stdout",
          "text": [
            "1 3 are coprimes\n",
            "3 5 are coprimes\n",
            "5 7 are coprimes\n",
            "11 13 are coprimes\n",
            "17 19 are coprimes\n",
            "29 31 are coprimes\n",
            "41 43 are coprimes\n",
            "47 49 are coprimes\n",
            "59 61 are coprimes\n",
            "71 73 are coprimes\n",
            "77 79 are coprimes\n",
            "89 91 are coprimes\n"
          ]
        }
      ]
    },
    {
      "cell_type": "markdown",
      "source": [
        "3.Write a program to find out the prime factors of a number. Example: prime factors of 56 - \n",
        "2, 2, 2, 7"
      ],
      "metadata": {
        "id": "oa7zYzstW1Bk"
      }
    },
    {
      "cell_type": "code",
      "source": [
        "import math\n",
        "n=int(input(\"Enter a number\"))\n",
        "if n<=1:\n",
        "  print (-1)\n",
        "while(n%2==0):\n",
        "  print(2)\n",
        "  n=n/2\n",
        "while(n%3==0):\n",
        "  print(3)\n",
        "  n=n/3\n",
        "for i in range (5,int(math.sqrt(n)),6):\n",
        "  while(n%i==0):\n",
        "    print(i)\n",
        "    n=n/i\n",
        "  while((n%i+2)==0):\n",
        "    print(i)\n",
        "    n=n/2\n",
        "if n>3:\n",
        "  print(n)"
      ],
      "metadata": {
        "id": "69CFCU5UW8mm",
        "colab": {
          "base_uri": "https://localhost:8080/"
        },
        "outputId": "c50238be-641d-4bad-ad11-0d0d51782cfc"
      },
      "execution_count": 5,
      "outputs": [
        {
          "output_type": "stream",
          "name": "stdout",
          "text": [
            "Enter a number56\n",
            "2\n",
            "2\n",
            "2\n",
            "7.0\n"
          ]
        }
      ]
    },
    {
      "cell_type": "markdown",
      "source": [
        "4. Write a program to implement these formulae of permutations and combinations. \n",
        "Number of permutations of n objects taken r at a time: p(n, r) = n! / (n-r)!. Number of \n",
        "combinations of n objects taken r at a time is: c(n, r) = n! / (r!*(n-r)!) = p(n,r) / r!"
      ],
      "metadata": {
        "id": "HInLmmQmufMA"
      }
    },
    {
      "cell_type": "code",
      "source": [
        "n=int(input())\n",
        "def fact(n):\n",
        " if n==0 or n==1:\n",
        "   return 1\n",
        " else:\n",
        "   return n*fact(n-1)\n",
        "r=int(input(\"Enter number of objects\"))\n",
        "p=fact(n)/fact(n-r)\n",
        "c=p/fact(r)"
      ],
      "metadata": {
        "colab": {
          "base_uri": "https://localhost:8080/"
        },
        "id": "uID53rx6unYX",
        "outputId": "a840976e-8d16-4b95-f38e-53ee2c26188d"
      },
      "execution_count": 12,
      "outputs": [
        {
          "name": "stdout",
          "output_type": "stream",
          "text": [
            "5\n",
            "Enter number of objects5\n"
          ]
        }
      ]
    },
    {
      "cell_type": "markdown",
      "source": [
        "5. Write a function that converts a decimal number to binary number"
      ],
      "metadata": {
        "id": "v51MtynixsbM"
      }
    },
    {
      "cell_type": "code",
      "source": [
        "n=int(input(\"enter a number\"))\n",
        "def dtob(n):\n",
        "  if n>=1:\n",
        "    return dtob(n//2)\n",
        "    print(n%2)"
      ],
      "metadata": {
        "colab": {
          "base_uri": "https://localhost:8080/",
          "height": 380
        },
        "id": "zV17bEpsxtxA",
        "outputId": "18fad790-8cd4-4a7d-e289-903689457455"
      },
      "execution_count": 11,
      "outputs": [
        {
          "output_type": "error",
          "ename": "KeyboardInterrupt",
          "evalue": "ignored",
          "traceback": [
            "\u001b[0;31m---------------------------------------------------------------------------\u001b[0m",
            "\u001b[0;31mKeyboardInterrupt\u001b[0m                         Traceback (most recent call last)",
            "\u001b[0;32m<ipython-input-11-891994d5cec2>\u001b[0m in \u001b[0;36m<module>\u001b[0;34m\u001b[0m\n\u001b[0;32m----> 1\u001b[0;31m \u001b[0mn\u001b[0m\u001b[0;34m=\u001b[0m\u001b[0mint\u001b[0m\u001b[0;34m(\u001b[0m\u001b[0minput\u001b[0m\u001b[0;34m(\u001b[0m\u001b[0;34m\"enter a number\"\u001b[0m\u001b[0;34m)\u001b[0m\u001b[0;34m)\u001b[0m\u001b[0;34m\u001b[0m\u001b[0;34m\u001b[0m\u001b[0m\n\u001b[0m\u001b[1;32m      2\u001b[0m \u001b[0;32mdef\u001b[0m \u001b[0mdtob\u001b[0m\u001b[0;34m(\u001b[0m\u001b[0mn\u001b[0m\u001b[0;34m)\u001b[0m\u001b[0;34m:\u001b[0m\u001b[0;34m\u001b[0m\u001b[0;34m\u001b[0m\u001b[0m\n\u001b[1;32m      3\u001b[0m   \u001b[0;32mif\u001b[0m \u001b[0mn\u001b[0m\u001b[0;34m==\u001b[0m\u001b[0;36m0\u001b[0m\u001b[0;34m:\u001b[0m\u001b[0;34m\u001b[0m\u001b[0;34m\u001b[0m\u001b[0m\n\u001b[1;32m      4\u001b[0m     \u001b[0;32mreturn\u001b[0m\u001b[0;34m\u001b[0m\u001b[0;34m\u001b[0m\u001b[0m\n\u001b[1;32m      5\u001b[0m   \u001b[0;32melse\u001b[0m \u001b[0;34m:\u001b[0m\u001b[0;34m\u001b[0m\u001b[0;34m\u001b[0m\u001b[0m\n",
            "\u001b[0;32m/usr/local/lib/python3.8/dist-packages/ipykernel/kernelbase.py\u001b[0m in \u001b[0;36mraw_input\u001b[0;34m(self, prompt)\u001b[0m\n\u001b[1;32m    858\u001b[0m                 \u001b[0;34m\"raw_input was called, but this frontend does not support input requests.\"\u001b[0m\u001b[0;34m\u001b[0m\u001b[0;34m\u001b[0m\u001b[0m\n\u001b[1;32m    859\u001b[0m             )\n\u001b[0;32m--> 860\u001b[0;31m         return self._input_request(str(prompt),\n\u001b[0m\u001b[1;32m    861\u001b[0m             \u001b[0mself\u001b[0m\u001b[0;34m.\u001b[0m\u001b[0m_parent_ident\u001b[0m\u001b[0;34m,\u001b[0m\u001b[0;34m\u001b[0m\u001b[0;34m\u001b[0m\u001b[0m\n\u001b[1;32m    862\u001b[0m             \u001b[0mself\u001b[0m\u001b[0;34m.\u001b[0m\u001b[0m_parent_header\u001b[0m\u001b[0;34m,\u001b[0m\u001b[0;34m\u001b[0m\u001b[0;34m\u001b[0m\u001b[0m\n",
            "\u001b[0;32m/usr/local/lib/python3.8/dist-packages/ipykernel/kernelbase.py\u001b[0m in \u001b[0;36m_input_request\u001b[0;34m(self, prompt, ident, parent, password)\u001b[0m\n\u001b[1;32m    902\u001b[0m             \u001b[0;32mexcept\u001b[0m \u001b[0mKeyboardInterrupt\u001b[0m\u001b[0;34m:\u001b[0m\u001b[0;34m\u001b[0m\u001b[0;34m\u001b[0m\u001b[0m\n\u001b[1;32m    903\u001b[0m                 \u001b[0;31m# re-raise KeyboardInterrupt, to truncate traceback\u001b[0m\u001b[0;34m\u001b[0m\u001b[0;34m\u001b[0m\u001b[0;34m\u001b[0m\u001b[0m\n\u001b[0;32m--> 904\u001b[0;31m                 \u001b[0;32mraise\u001b[0m \u001b[0mKeyboardInterrupt\u001b[0m\u001b[0;34m(\u001b[0m\u001b[0;34m\"Interrupted by user\"\u001b[0m\u001b[0;34m)\u001b[0m \u001b[0;32mfrom\u001b[0m \u001b[0;32mNone\u001b[0m\u001b[0;34m\u001b[0m\u001b[0;34m\u001b[0m\u001b[0m\n\u001b[0m\u001b[1;32m    905\u001b[0m             \u001b[0;32mexcept\u001b[0m \u001b[0mException\u001b[0m \u001b[0;32mas\u001b[0m \u001b[0me\u001b[0m\u001b[0;34m:\u001b[0m\u001b[0;34m\u001b[0m\u001b[0;34m\u001b[0m\u001b[0m\n\u001b[1;32m    906\u001b[0m                 \u001b[0mself\u001b[0m\u001b[0;34m.\u001b[0m\u001b[0mlog\u001b[0m\u001b[0;34m.\u001b[0m\u001b[0mwarning\u001b[0m\u001b[0;34m(\u001b[0m\u001b[0;34m\"Invalid Message:\"\u001b[0m\u001b[0;34m,\u001b[0m \u001b[0mexc_info\u001b[0m\u001b[0;34m=\u001b[0m\u001b[0;32mTrue\u001b[0m\u001b[0;34m)\u001b[0m\u001b[0;34m\u001b[0m\u001b[0;34m\u001b[0m\u001b[0m\n",
            "\u001b[0;31mKeyboardInterrupt\u001b[0m: Interrupted by user"
          ]
        }
      ]
    },
    {
      "cell_type": "markdown",
      "source": [
        "6. Write a function cubesum() that accepts an integer and returns the sum of the cubes of \n",
        "individual digits of that number. Use this function to make functions PrintArmstrong() and \n",
        "isArmstrong() to print Armstrong numbers and to find whether is an Armstrong number."
      ],
      "metadata": {
        "id": "vJgQ5B_104om"
      }
    },
    {
      "cell_type": "code",
      "source": [
        "n=int(input())\n",
        "def cubesum(n):\n",
        "  s=str(n)\n",
        "  d=0\n",
        "  for i in s:\n",
        "    i=int(i)\n",
        "    d+=i**3\n",
        "  return d\n",
        "def isArmstrong(n):\n",
        "  if cubesum(n)==n:\n",
        "    return true\n",
        "print(cubesum(n))\n",
        "print(isArmstrong(n)) "
      ],
      "metadata": {
        "colab": {
          "base_uri": "https://localhost:8080/"
        },
        "id": "aD5hzsgq05jq",
        "outputId": "d02b6c44-0286-47da-fa3f-34fe6d697278"
      },
      "execution_count": 19,
      "outputs": [
        {
          "output_type": "stream",
          "name": "stdout",
          "text": [
            "5\n",
            "125\n",
            "None\n"
          ]
        }
      ]
    },
    {
      "cell_type": "markdown",
      "source": [
        "7. Write a function prodDigits() that inputs a number and returns the product of digits of that \n",
        "number."
      ],
      "metadata": {
        "id": "XBlwyedQ2bTr"
      }
    },
    {
      "cell_type": "code",
      "source": [
        "n=int(input())\n",
        "def prodDigits(n):\n",
        "  p=1\n",
        "  while(n>0):\n",
        "    r=n%10\n",
        "    p*=r\n",
        "    n=n//10\n",
        "  return p\n",
        "print(prodDigits(n))\n"
      ],
      "metadata": {
        "id": "bISgqffj2fYX"
      },
      "execution_count": null,
      "outputs": []
    },
    {
      "cell_type": "markdown",
      "source": [
        "8. If all digits of a number n are multiplied by each other repeating with the product, the one \n",
        "digit number obtained at last is called the multiplicative digital root of n. The number of \n",
        "times digits need to be multiplied to reach one digit is called the multiplicative \n",
        "persistance of n. \n",
        "Example: 86 -> 48 -> 32 -> 6 (MDR 6, MPersistence 3)\n",
        " 341 -> 12->2 (MDR 2, MPersistence 2)\n",
        "Using the function prodDigits() of previous exercise write functions MDR() and \n",
        "MPersistence() that input a number and return its multiplicative digital root and \n",
        "multiplicative persistence respectively\n"
      ],
      "metadata": {
        "id": "E_kUa_Th5Bfd"
      }
    },
    {
      "cell_type": "code",
      "source": [
        "n=int(input())\n",
        "l=[]\n",
        "def MDR(n):\n",
        " if n>10:\n",
        "  while n>0:\n",
        "   p=1\n",
        "   r=n%10\n",
        "   p*=r\n",
        "   n=n//10\n",
        " l.append(p)\n",
        " return MDR(p)\n",
        "def Mpersistence(n):\n",
        "  return len(l)\n",
        "print(MDR(n))\n",
        "print(Mpersistence(n))\n",
        "\n",
        "  "
      ],
      "metadata": {
        "id": "dmLkwqLO5IU7"
      },
      "execution_count": null,
      "outputs": []
    },
    {
      "cell_type": "markdown",
      "source": [
        "9. Write a function sumPdivisors() that finds the sum of proper divisors of a number. Proper \n",
        "divisors of a number are those numbers by which the number is divisible, except the \n",
        "number itself. For example proper divisors of 36 are 1, 2, 3, 4, 6, 9, 18\n",
        "\n"
      ],
      "metadata": {
        "id": "NhEwOwKK9Adm"
      }
    },
    {
      "cell_type": "code",
      "source": [
        "n=int(input())\n",
        "def sumPdivisors(n):\n",
        "  s=0\n",
        "  for i in range(1,n//2):\n",
        "    if (n%i==0):\n",
        "      s+=i\n",
        "  return s\n",
        "print sumPdivisors(n)"
      ],
      "metadata": {
        "id": "N0XxqPPi9Jo3"
      },
      "execution_count": null,
      "outputs": []
    },
    {
      "cell_type": "markdown",
      "source": [
        "10. A number is called perfect if the sum of proper divisors of that number is equal to the \n",
        "number. For example 28 is perfect number, since 1+2+4+7+14=28. Write a program to \n",
        "print all the perfect numbers in a given range\n"
      ],
      "metadata": {
        "id": "0F1m5uxa_sGy"
      }
    },
    {
      "cell_type": "code",
      "source": [
        "def perfectNumber(n)\n",
        "   if sumPdivisors(n)==n:\n",
        "     return true"
      ],
      "metadata": {
        "id": "tioE3NcX_vah"
      },
      "execution_count": null,
      "outputs": []
    },
    {
      "cell_type": "markdown",
      "source": [
        "11. Two different numbers are called amicable numbers if the sum of the proper divisors of \n",
        "each is equal to the other number. For example 220 and 284 are amicable numbers.\n",
        "Sum of proper divisors of 220 = 1+2+4+5+10+11+20+22+44+55+110 = 284\n",
        "Sum of proper divisors of 284 = 1+2+4+71+142 = 220\n",
        "Write a function to print pairs of amicable numbers in a range"
      ],
      "metadata": {
        "id": "nT4Xct4AACgg"
      }
    },
    {
      "cell_type": "code",
      "source": [
        "def amicable(n,r):\n",
        "  if  sumPdivisors(n)==r and  sumPdivisors(r)==n:\n",
        "    return true"
      ],
      "metadata": {
        "id": "_IaJBW1CADqq"
      },
      "execution_count": null,
      "outputs": []
    },
    {
      "cell_type": "markdown",
      "source": [
        "12. Write a program which can filter odd numbers in a list by using filter function"
      ],
      "metadata": {
        "id": "tF-s7VNJAgIA"
      }
    },
    {
      "cell_type": "code",
      "source": [
        "a=[1,23,56,2,4,6,6,3,234]\n",
        "result=filter(lamdma x:x%2==1,a)\n",
        "print(result)"
      ],
      "metadata": {
        "id": "w9N4O3OFAg2a"
      },
      "execution_count": null,
      "outputs": []
    },
    {
      "cell_type": "markdown",
      "source": [
        "13. Write a program which can map() to make a list whose elements are cube of elements in \n",
        "a given list"
      ],
      "metadata": {
        "id": "c_Bgq_ZfDZ_5"
      }
    },
    {
      "cell_type": "code",
      "source": [
        "result=map(list(lamda x:x**3))\n",
        "print(result)"
      ],
      "metadata": {
        "id": "TH51b50ODkbC"
      },
      "execution_count": null,
      "outputs": []
    },
    {
      "cell_type": "markdown",
      "source": [
        "14. Write a program which can map() and filter() to make a list whose elements are cube of \n",
        "even number in a given list"
      ],
      "metadata": {
        "id": "1Olb8g-6EEYG"
      }
    },
    {
      "cell_type": "code",
      "source": [
        "result=map(lamda x:x**3,filter(lamda x:x%2==0),a)\n",
        "print(results)"
      ],
      "metadata": {
        "id": "AOYEwHuBEIn-"
      },
      "execution_count": null,
      "outputs": []
    },
    {
      "cell_type": "code",
      "source": [],
      "metadata": {
        "id": "s3ews45iE40z"
      },
      "execution_count": null,
      "outputs": []
    }
  ]
}